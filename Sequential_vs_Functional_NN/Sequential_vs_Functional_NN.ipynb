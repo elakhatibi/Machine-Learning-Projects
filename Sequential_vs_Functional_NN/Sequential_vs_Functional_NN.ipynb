{
 "cells": [
  {
   "cell_type": "code",
   "execution_count": 1,
   "id": "03f5d352",
   "metadata": {},
   "outputs": [
    {
     "name": "stdout",
     "output_type": "stream",
     "text": [
      "Downloading data from https://storage.googleapis.com/tensorflow/tf-keras-datasets/train-labels-idx1-ubyte.gz\n",
      "29515/29515 [==============================] - 0s 0us/step\n",
      "Downloading data from https://storage.googleapis.com/tensorflow/tf-keras-datasets/train-images-idx3-ubyte.gz\n",
      "26421880/26421880 [==============================] - 9s 0us/step\n",
      "Downloading data from https://storage.googleapis.com/tensorflow/tf-keras-datasets/t10k-labels-idx1-ubyte.gz\n",
      "5148/5148 [==============================] - 0s 0s/step\n",
      "Downloading data from https://storage.googleapis.com/tensorflow/tf-keras-datasets/t10k-images-idx3-ubyte.gz\n",
      "4422102/4422102 [==============================] - 2s 0us/step\n"
     ]
    },
    {
     "data": {
      "image/png": "[encoded data removed]",
      "text/plain": [
       "<Figure size 1152x288 with 7 Axes>"
      ]
     },
     "metadata": {
      "needs_background": "light"
     },
     "output_type": "display_data"
    },
    {
     "name": "stdout",
     "output_type": "stream",
     "text": [
      "Original shape of X_train = (60000, 28, 28)\n",
      "Original shape of X_test = (10000, 28, 28)\n",
      "New X_train shape (60000, 784)\n",
      "New X_test shape (10000, 784)\n",
      "Model: \"sequential\"\n",
      "_________________________________________________________________\n",
      " Layer (type)                Output Shape              Param #   \n",
      "=================================================================\n",
      " dense (Dense)               (None, 5)                 3925      \n",
      "                                                                 \n",
      " dense_1 (Dense)             (None, 4)                 24        \n",
      "                                                                 \n",
      " dense_2 (Dense)             (None, 10)                50        \n",
      "                                                                 \n",
      "=================================================================\n",
      "Total params: 3,999\n",
      "Trainable params: 3,999\n",
      "Non-trainable params: 0\n",
      "_________________________________________________________________\n",
      "Epoch 1/3\n",
      "1875/1875 [==============================] - 8s 4ms/step - loss: 2.1474 - acc: 0.2225 - val_loss: 1.8516 - val_acc: 0.3584\n",
      "Epoch 2/3\n",
      "1875/1875 [==============================] - 6s 3ms/step - loss: 1.6323 - acc: 0.3652 - val_loss: 1.4771 - val_acc: 0.3727\n",
      "Epoch 3/3\n",
      "1875/1875 [==============================] - 6s 3ms/step - loss: 1.3970 - acc: 0.3776 - val_loss: 1.3447 - val_acc: 0.3867\n",
      "Model: \"model\"\n",
      "_________________________________________________________________\n",
      " Layer (type)                Output Shape              Param #   \n",
      "=================================================================\n",
      " input_1 (InputLayer)        [(None, 784)]             0         \n",
      "                                                                 \n",
      " dense_3 (Dense)             (None, 5)                 3925      \n",
      "                                                                 \n",
      " dense_4 (Dense)             (None, 4)                 24        \n",
      "                                                                 \n",
      " dense_5 (Dense)             (None, 10)                50        \n",
      "                                                                 \n",
      "=================================================================\n",
      "Total params: 3,999\n",
      "Trainable params: 3,999\n",
      "Non-trainable params: 0\n",
      "_________________________________________________________________\n",
      "Epoch 1/3\n",
      "1875/1875 [==============================] - 7s 3ms/step - loss: 1.8199 - acc: 0.3221 - val_loss: 1.5665 - val_acc: 0.3989\n",
      "Epoch 2/3\n",
      "1875/1875 [==============================] - 7s 3ms/step - loss: 1.4095 - acc: 0.4674 - val_loss: 1.3459 - val_acc: 0.5192\n",
      "Epoch 3/3\n",
      "1875/1875 [==============================] - 6s 3ms/step - loss: 1.2561 - acc: 0.5376 - val_loss: 1.2157 - val_acc: 0.5466\n"
     ]
    },
    {
     "data": {
      "text/plain": [
       "<keras.callbacks.History at 0x1d1f3d474f0>"
      ]
     },
     "execution_count": 1,
     "metadata": {},
     "output_type": "execute_result"
    }
   ],
   "source": [
    "import numpy as np\n",
    "import matplotlib.pyplot as plt\n",
    "from keras.utils import to_categorical\n",
    "from keras.datasets import fashion_mnist\n",
    "from keras.models import Sequential, Model\n",
    "from keras.layers import Dense, Input\n",
    "\n",
    "# Import fashion MNIST dataset\n",
    "(X_train, y_train), (X_test, y_test) = fashion_mnist.load_data()\n",
    "\n",
    "# Display the first 7 images\n",
    "fig, axes = plt.subplots(ncols=7, sharex=False,\n",
    "\t\t\t\t\t\t sharey=True, figsize=(16, 4))\n",
    "for i in range(7):\n",
    "\taxes[i].set_title(y_train[i])\n",
    "\taxes[i].imshow(X_train[i], cmap='gray')\n",
    "\taxes[i].get_xaxis().set_visible(False)\n",
    "\taxes[i].get_yaxis().set_visible(False)\n",
    "plt.show()\n",
    "\n",
    "print(\"Original shape of X_train =\", X_train.shape)\n",
    "print(\"Original shape of X_test =\", X_test.shape, end='\\n')\n",
    "\n",
    "# Reshape X_train to (60000, 784) and X_test to (10000, 784)\n",
    "X_train = X_train.reshape(X_train.shape[0], X_train.shape[1]*X_train.shape[2])\n",
    "X_test = X_test.reshape(X_test.shape[0], X_test.shape[1]*X_test.shape[2])\n",
    "\n",
    "print(\"New X_train shape\", X_train.shape)\n",
    "print(\"New X_test shape\", X_test.shape, end='\\n')\n",
    "\n",
    "# Convert target (y_train and y_test) into one-hot\n",
    "temp = []\n",
    "for i in range(len(y_train)):\n",
    "    temp.append(to_categorical(y_train[i], num_classes=10))\n",
    "    \n",
    "y_train = np.array(temp)\n",
    "\n",
    "temp = []\n",
    "for i in range(len(y_test)):\n",
    "    temp.append(to_categorical(y_test[i], num_classes=10))\n",
    "\n",
    "y_test = np.array(temp)\n",
    "\n",
    "# Create and train sequential model\n",
    "model_seq = Sequential()\n",
    "model_seq.add(Dense(5, activation='sigmoid', input_shape=(X_train.shape[1],)))\n",
    "model_seq.add(Dense(4, activation='sigmoid'))\n",
    "model_seq.add(Dense(10, activation='softmax'))\n",
    "\n",
    "model_seq.summary()\n",
    "\n",
    "model_seq.compile(loss='categorical_crossentropy', \n",
    "                  optimizer='adam', \n",
    "                  metrics=['acc'])\n",
    "\n",
    "model_seq.fit(X_train, y_train, epochs=3, \n",
    "              validation_data=(X_test,y_test))\n",
    "\n",
    "# Create and train functional model\n",
    "input1 = Input(shape=(X_train.shape[1],))\n",
    "hidden1 = Dense(5, activation='sigmoid')(input1)\n",
    "hidden2 = Dense(4, activation='sigmoid')(hidden1)\n",
    "output = Dense(10, activation='softmax')(hidden2)\n",
    "model_func = Model(inputs=input1, outputs=output)\n",
    "\n",
    "model_func.summary()\n",
    "\n",
    "model_func.compile(loss='categorical_crossentropy', \n",
    "                   optimizer='adam', \n",
    "                   metrics=['acc'])\n",
    "\n",
    "model_func.fit(X_train, y_train, epochs=3, \n",
    "               validation_data=(X_test,y_test))"
   ]
  }
 ],
 "metadata": {
  "kernelspec": {
   "display_name": "Python 3 (ipykernel)",
   "language": "python",
   "name": "python3"
  },
  "language_info": {
   "codemirror_mode": {
    "name": "ipython",
    "version": 3
   },
   "file_extension": ".py",
   "mimetype": "text/x-python",
   "name": "python",
   "nbconvert_exporter": "python",
   "pygments_lexer": "ipython3",
   "version": "3.8.8"
  },
  "toc": {
   "base_numbering": 1,
   "nav_menu": {},
   "number_sections": true,
   "sideBar": true,
   "skip_h1_title": false,
   "title_cell": "Table of Contents",
   "title_sidebar": "Contents",
   "toc_cell": false,
   "toc_position": {},
   "toc_section_display": true,
   "toc_window_display": false
  }
 },
 "nbformat": 4,
 "nbformat_minor": 5
}
